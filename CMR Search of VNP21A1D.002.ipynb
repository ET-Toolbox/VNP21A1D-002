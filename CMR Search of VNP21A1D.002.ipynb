{
 "cells": [
  {
   "cell_type": "code",
   "execution_count": 22,
   "metadata": {},
   "outputs": [],
   "source": [
    "import json\n",
    "import requests\n",
    "import modland\n",
    "from VNP21A1D_002 import *"
   ]
  },
  {
   "cell_type": "code",
   "execution_count": 15,
   "metadata": {},
   "outputs": [
    {
     "data": {
      "text/plain": [
       "'https://cmr.earthdata.nasa.gov/search/'"
      ]
     },
     "execution_count": 15,
     "metadata": {},
     "output_type": "execute_result"
    }
   ],
   "source": [
    "CMR_search_URL = CMR_SEARCH_URL\n",
    "CMR_search_URL"
   ]
  },
  {
   "cell_type": "code",
   "execution_count": 3,
   "metadata": {},
   "outputs": [
    {
     "data": {
      "text/plain": [
       "'C2545314555-LPCLOUD'"
      ]
     },
     "execution_count": 3,
     "metadata": {},
     "output_type": "execute_result"
    }
   ],
   "source": [
    "concept_ID = VNP21A1D_002_CONCEPT_ID\n",
    "concept_ID"
   ]
  },
  {
   "cell_type": "code",
   "execution_count": 8,
   "metadata": {},
   "outputs": [],
   "source": [
    "h = 8\n",
    "v = 5\n",
    "tile_size = 1200"
   ]
  },
  {
   "cell_type": "code",
   "execution_count": 18,
   "metadata": {},
   "outputs": [],
   "source": [
    "start_date = \"2024-11-11\"\n",
    "end_date = \"2024-11-11\""
   ]
  },
  {
   "cell_type": "code",
   "execution_count": 10,
   "metadata": {},
   "outputs": [
    {
     "data": {
      "text/plain": [
       "{\n",
       "  \"dimensions\": {\n",
       "    \"rows\": 1200,\n",
       "    \"cols\": 1200\n",
       "  },\n",
       "  \"bbox\": {\n",
       "    \"xmin\": -11119505.197665555,\n",
       "    \"ymin\": 3335851.5592996655,\n",
       "    \"xmax\": -10007554.677899,\n",
       "    \"ymax\": 4447802.079066221\n",
       "  },\n",
       "  \"crs\": \"+proj=sinu +lon_0=0 +x_0=0 +y_0=0 +R=6371007.181 +units=m +no_defs +type=crs\",\n",
       "  \"resolution\": {\n",
       "    \"cell_width\": 926.6254331387962,\n",
       "    \"cell_height\": -926.6254331387962\n",
       "  }\n",
       "}"
      ]
     },
     "execution_count": 10,
     "metadata": {},
     "output_type": "execute_result"
    }
   ],
   "source": [
    "geometry = modland.generate_modland_grid(h=h, v=v, tile_size=tile_size)\n",
    "geometry"
   ]
  },
  {
   "cell_type": "code",
   "execution_count": 13,
   "metadata": {},
   "outputs": [
    {
     "data": {
      "text/plain": [
       "(35.00000000000101, -115.97358593234311)"
      ]
     },
     "execution_count": 13,
     "metadata": {},
     "output_type": "execute_result"
    }
   ],
   "source": [
    "centroid = geometry.centroid_latlon\n",
    "lat = centroid.y\n",
    "lon = centroid.x\n",
    "lat, lon"
   ]
  },
  {
   "cell_type": "code",
   "execution_count": 16,
   "metadata": {},
   "outputs": [
    {
     "data": {
      "text/plain": [
       "'https://cmr.earthdata.nasa.gov/search/granules.json'"
      ]
     },
     "execution_count": 16,
     "metadata": {},
     "output_type": "execute_result"
    }
   ],
   "source": [
    "granule_search_URL = f\"{CMR_search_URL}granules.json\"\n",
    "granule_search_URL"
   ]
  },
  {
   "cell_type": "code",
   "execution_count": 19,
   "metadata": {},
   "outputs": [
    {
     "data": {
      "text/plain": [
       "{'concept_id': 'C2545314555-LPCLOUD',\n",
       " 'bounding_box': '-115.97358593234311,35.00000000000101,-115.97358593234311,35.00000000000101',\n",
       " 'temporal': '2024-11-11T00:00:00Z,2024-11-11T23:59:59Z',\n",
       " 'page_size': 2000}"
      ]
     },
     "execution_count": 19,
     "metadata": {},
     "output_type": "execute_result"
    }
   ],
   "source": [
    "params = {\n",
    "    \"concept_id\": concept_ID,\n",
    "    \"bounding_box\": f\"{lon},{lat},{lon},{lat}\",  # Point search using the tile's centroid\n",
    "    \"temporal\": f\"{start_date}T00:00:00Z,{end_date}T23:59:59Z\",  # ISO 8601 format for date/time\n",
    "    \"page_size\": 2000  # Retrieve up to 2000 granules per page\n",
    "}\n",
    "\n",
    "params"
   ]
  },
  {
   "cell_type": "code",
   "execution_count": 20,
   "metadata": {},
   "outputs": [
    {
     "data": {
      "text/plain": [
       "<Response [200]>"
      ]
     },
     "execution_count": 20,
     "metadata": {},
     "output_type": "execute_result"
    }
   ],
   "source": [
    "response = requests.get(granule_search_URL, params=params)\n",
    "response"
   ]
  },
  {
   "cell_type": "code",
   "execution_count": 23,
   "metadata": {},
   "outputs": [
    {
     "data": {
      "text/plain": [
       "{'feed': {'updated': '2024-11-25T18:45:30.616Z',\n",
       "  'id': 'https://cmr.earthdata.nasa.gov:443/search/granules.json?concept_id=C2545314555-LPCLOUD&bounding_box=-115.97358593234311%2C35.00000000000101%2C-115.97358593234311%2C35.00000000000101&temporal=2024-11-11T00%3A00%3A00Z%2C2024-11-11T23%3A59%3A59Z&page_size=2000',\n",
       "  'title': 'ECHO granule metadata',\n",
       "  'entry': [{'producer_granule_id': 'VNP21A1D.A2024316.h08v05.002.2024320160736',\n",
       "    'time_start': '2024-11-11T00:00:00.000Z',\n",
       "    'updated': '2024-11-15T10:17:20.614Z',\n",
       "    'dataset_id': 'VIIRS/NPP Land Surface Temperature/Emissivity Daily L3 Global 1km SIN Grid Day V002',\n",
       "    'data_center': 'LPCLOUD',\n",
       "    'title': 'VNP21A1D.A2024316.h08v05.002.2024320160736',\n",
       "    'coordinate_system': 'GEODETIC',\n",
       "    'day_night_flag': 'BOTH',\n",
       "    'time_end': '2024-11-11T23:59:59.000Z',\n",
       "    'id': 'G3296774315-LPCLOUD',\n",
       "    'original_format': 'ECHO10',\n",
       "    'granule_size': '2.3955039978027344',\n",
       "    'browse_flag': True,\n",
       "    'polygons': [['29.8308 -115.3696 29.9063 -103.6998 40.0852 -117.3606 40 -130.5407 29.8308 -115.3696']],\n",
       "    'collection_concept_id': 'C2545314555-LPCLOUD',\n",
       "    'online_access_flag': True,\n",
       "    'links': [{'rel': 'http://esipfed.org/ns/fedsearch/1.1/data#',\n",
       "      'title': 'Download VNP21A1D.A2024316.h08v05.002.2024320160736.h5',\n",
       "      'hreflang': 'en-US',\n",
       "      'href': 'https://data.lpdaac.earthdatacloud.nasa.gov/lp-prod-protected/VNP21A1D.002/VNP21A1D.A2024316.h08v05.002.2024320160736/VNP21A1D.A2024316.h08v05.002.2024320160736.h5'},\n",
       "     {'rel': 'http://esipfed.org/ns/fedsearch/1.1/s3#',\n",
       "      'title': 'This link provides direct download access via S3 to the granule',\n",
       "      'hreflang': 'en-US',\n",
       "      'href': 's3://lp-prod-protected/VNP21A1D.002/VNP21A1D.A2024316.h08v05.002.2024320160736/VNP21A1D.A2024316.h08v05.002.2024320160736.h5'},\n",
       "     {'rel': 'http://esipfed.org/ns/fedsearch/1.1/documentation#',\n",
       "      'type': 'text/html',\n",
       "      'title': 'The Landing Page for this file may be accessed directly from this link (DOI)',\n",
       "      'hreflang': 'en-US',\n",
       "      'href': 'https://doi.org/10.5067/VIIRS/VNP21A1D.002'},\n",
       "     {'rel': 'http://esipfed.org/ns/fedsearch/1.1/service#',\n",
       "      'title': 'OPeNDAP request URL (GET DATA : OPENDAP DATA)',\n",
       "      'hreflang': 'en-US',\n",
       "      'href': 'https://opendap.earthdata.nasa.gov/collections/C2545314555-LPCLOUD/granules/VNP21A1D.A2024316.h08v05.002.2024320160736'},\n",
       "     {'rel': 'http://esipfed.org/ns/fedsearch/1.1/metadata#',\n",
       "      'title': 'Download VNP21A1D.A2024316.h08v05.002.2024320160736.cmr.xml (EXTENDED METADATA)',\n",
       "      'hreflang': 'en-US',\n",
       "      'href': 'https://data.lpdaac.earthdatacloud.nasa.gov/lp-prod-protected/VNP21A1D.002/VNP21A1D.A2024316.h08v05.002.2024320160736/VNP21A1D.A2024316.h08v05.002.2024320160736.cmr.xml'},\n",
       "     {'rel': 'http://esipfed.org/ns/fedsearch/1.1/metadata#',\n",
       "      'title': 'Download VNP21A1D.A2024316.h08v05.002.2024320160736.h5.dmrpp (VIEW RELATED INFORMATION)',\n",
       "      'hreflang': 'en-US',\n",
       "      'href': 'https://data.lpdaac.earthdatacloud.nasa.gov/lp-prod-protected/VNP21A1D.002/VNP21A1D.A2024316.h08v05.002.2024320160736/VNP21A1D.A2024316.h08v05.002.2024320160736.h5.dmrpp'},\n",
       "     {'rel': 'http://esipfed.org/ns/fedsearch/1.1/metadata#',\n",
       "      'title': 'This link provides direct download access via S3 to the granule (EXTENDED METADATA)',\n",
       "      'hreflang': 'en-US',\n",
       "      'href': 's3://lp-prod-protected/VNP21A1D.002/VNP21A1D.A2024316.h08v05.002.2024320160736/VNP21A1D.A2024316.h08v05.002.2024320160736.cmr.xml'},\n",
       "     {'rel': 'http://esipfed.org/ns/fedsearch/1.1/metadata#',\n",
       "      'title': 'This link provides direct download access via S3 to the granule (VIEW RELATED INFORMATION)',\n",
       "      'hreflang': 'en-US',\n",
       "      'href': 's3://lp-prod-protected/VNP21A1D.002/VNP21A1D.A2024316.h08v05.002.2024320160736/VNP21A1D.A2024316.h08v05.002.2024320160736.h5.dmrpp'},\n",
       "     {'rel': 'http://esipfed.org/ns/fedsearch/1.1/metadata#',\n",
       "      'title': 'api endpoint to retrieve temporary credentials valid for same-region direct s3 access (VIEW RELATED INFORMATION)',\n",
       "      'hreflang': 'en-US',\n",
       "      'href': 'https://data.lpdaac.earthdatacloud.nasa.gov/s3credentials'},\n",
       "     {'rel': 'http://esipfed.org/ns/fedsearch/1.1/browse#',\n",
       "      'title': 'Download BROWSE.VNP21A1D.A2024316.h08v05.002.2024320160736.1.jpg',\n",
       "      'hreflang': 'en-US',\n",
       "      'href': 'https://data.lpdaac.earthdatacloud.nasa.gov/lp-prod-public/VNP21A1D.002/VNP21A1D.A2024316.h08v05.002.2024320160736/BROWSE.VNP21A1D.A2024316.h08v05.002.2024320160736.1.jpg'},\n",
       "     {'rel': 'http://esipfed.org/ns/fedsearch/1.1/browse#',\n",
       "      'title': 'This link provides direct download access via S3 to the granule',\n",
       "      'hreflang': 'en-US',\n",
       "      'href': 's3://lp-prod-public/VNP21A1D.002/VNP21A1D.A2024316.h08v05.002.2024320160736/BROWSE.VNP21A1D.A2024316.h08v05.002.2024320160736.1.jpg'},\n",
       "     {'inherited': True,\n",
       "      'length': '976.3KB',\n",
       "      'rel': 'http://esipfed.org/ns/fedsearch/1.1/data#',\n",
       "      'hreflang': 'en-US',\n",
       "      'href': 'https://search.earthdata.nasa.gov/search?q=C2545314555-LPCLOUD'},\n",
       "     {'inherited': True,\n",
       "      'rel': 'http://esipfed.org/ns/fedsearch/1.1/documentation#',\n",
       "      'hreflang': 'en-US',\n",
       "      'href': 'https://landweb.modaps.eosdis.nasa.gov/cgi-bin/QS/new/index.cgi'},\n",
       "     {'inherited': True,\n",
       "      'rel': 'http://esipfed.org/ns/fedsearch/1.1/metadata#',\n",
       "      'hreflang': 'en-US',\n",
       "      'href': 'https://doi.org/10.5067/VIIRS/VNP21A1D.002'},\n",
       "     {'inherited': True,\n",
       "      'rel': 'http://esipfed.org/ns/fedsearch/1.1/metadata#',\n",
       "      'hreflang': 'en-US',\n",
       "      'href': 'https://lpdaac.usgs.gov/'},\n",
       "     {'inherited': True,\n",
       "      'rel': 'http://esipfed.org/ns/fedsearch/1.1/documentation#',\n",
       "      'hreflang': 'en-US',\n",
       "      'href': 'https://lpdaac.usgs.gov/documents/1662/VNP21_User_Guide_V2.pdf'},\n",
       "     {'inherited': True,\n",
       "      'rel': 'http://esipfed.org/ns/fedsearch/1.1/documentation#',\n",
       "      'hreflang': 'en-US',\n",
       "      'href': 'https://lpdaac.usgs.gov/documents/1332/VNP21_ATBD_V1.pdf'},\n",
       "     {'inherited': True,\n",
       "      'rel': 'http://esipfed.org/ns/fedsearch/1.1/documentation#',\n",
       "      'hreflang': 'en-US',\n",
       "      'href': 'https://viirsland.gsfc.nasa.gov/Val/LST_Val.html'},\n",
       "     {'inherited': True,\n",
       "      'rel': 'http://esipfed.org/ns/fedsearch/1.1/documentation#',\n",
       "      'hreflang': 'en-US',\n",
       "      'href': 'https://viirsland.gsfc.nasa.gov/Val_overview.html'},\n",
       "     {'inherited': True,\n",
       "      'rel': 'http://esipfed.org/ns/fedsearch/1.1/documentation#',\n",
       "      'hreflang': 'en-US',\n",
       "      'href': 'https://ladsweb.modaps.eosdis.nasa.gov/filespec/VIIRS/2/VNP21A1D'},\n",
       "     {'inherited': True,\n",
       "      'rel': 'http://esipfed.org/ns/fedsearch/1.1/data#',\n",
       "      'hreflang': 'en-US',\n",
       "      'href': 'https://appeears.earthdatacloud.nasa.gov/'}]}]}}"
      ]
     },
     "execution_count": 23,
     "metadata": {},
     "output_type": "execute_result"
    }
   ],
   "source": [
    "data = response.json()\n",
    "\n",
    "with open(\"example_CMR_result.json\", \"w\") as f:\n",
    "    f.write(json.dumps(data, indent=2))\n",
    "\n",
    "data"
   ]
  },
  {
   "cell_type": "code",
   "execution_count": 24,
   "metadata": {},
   "outputs": [
    {
     "data": {
      "text/plain": [
       "['https://data.lpdaac.earthdatacloud.nasa.gov/lp-prod-protected/VNP21A1D.002/VNP21A1D.A2024316.h08v05.002.2024320160736/VNP21A1D.A2024316.h08v05.002.2024320160736.h5']"
      ]
     },
     "execution_count": 24,
     "metadata": {},
     "output_type": "execute_result"
    }
   ],
   "source": [
    "URLs = []\n",
    "\n",
    "for entry in data.get('feed', {}).get('entry', []):  # Safely navigate the JSON structure\n",
    "    for link in entry.get('links', []):\n",
    "        URL = link.get('href')\n",
    "        # Filter for URLs that start with \"https\" and end with specific file extensions\n",
    "        if URL and URL.startswith(\"https\") and URL.endswith((\".h5\")):  \n",
    "            URLs.append(URL)\n",
    "\n",
    "URLs"
   ]
  },
  {
   "cell_type": "code",
   "execution_count": null,
   "metadata": {},
   "outputs": [],
   "source": []
  }
 ],
 "metadata": {
  "kernelspec": {
   "display_name": "VNP21A1D-002",
   "language": "python",
   "name": "python3"
  },
  "language_info": {
   "codemirror_mode": {
    "name": "ipython",
    "version": 3
   },
   "file_extension": ".py",
   "mimetype": "text/x-python",
   "name": "python",
   "nbconvert_exporter": "python",
   "pygments_lexer": "ipython3",
   "version": "3.11.10"
  }
 },
 "nbformat": 4,
 "nbformat_minor": 2
}
